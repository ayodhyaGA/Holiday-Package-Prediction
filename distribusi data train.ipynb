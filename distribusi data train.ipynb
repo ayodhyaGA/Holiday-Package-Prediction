{
 "cells": [
  {
   "cell_type": "markdown",
   "id": "fuCW_o3-rPjv",
   "metadata": {
    "id": "fuCW_o3-rPjv"
   },
   "source": [
    "# New Section"
   ]
  },
  {
   "cell_type": "code",
   "execution_count": 1,
   "id": "7d6ff87e-5f48-449c-8a5c-32be09789adb",
   "metadata": {
    "execution": {
     "iopub.execute_input": "2022-04-01T06:10:07.555535Z",
     "iopub.status.busy": "2022-04-01T06:10:07.554483Z",
     "iopub.status.idle": "2022-04-01T06:10:09.580291Z",
     "shell.execute_reply": "2022-04-01T06:10:09.579401Z",
     "shell.execute_reply.started": "2022-04-01T06:10:07.555535Z"
    },
    "id": "7d6ff87e-5f48-449c-8a5c-32be09789adb"
   },
   "outputs": [],
   "source": [
    "import pandas as pd\n",
    "import numpy as np\n",
    "import matplotlib.pyplot as plt\n",
    "import seaborn as sns\n",
    "from scipy import stats\n",
    "from matplotlib import rcParams\n",
    "import warnings\n",
    "warnings.filterwarnings('ignore')"
   ]
  },
  {
   "cell_type": "code",
   "execution_count": 2,
   "id": "2OYW81gf100x",
   "metadata": {
    "colab": {
     "base_uri": "https://localhost:8080/"
    },
    "execution": {
     "iopub.execute_input": "2022-04-01T06:10:09.581440Z",
     "iopub.status.busy": "2022-04-01T06:10:09.581440Z",
     "iopub.status.idle": "2022-04-01T06:10:09.625626Z",
     "shell.execute_reply": "2022-04-01T06:10:09.625626Z",
     "shell.execute_reply.started": "2022-04-01T06:10:09.581440Z"
    },
    "id": "2OYW81gf100x",
    "outputId": "85cf1114-2155-4821-e495-3b7415c85631"
   },
   "outputs": [
    {
     "data": {
      "text/html": [
       "<div>\n",
       "<style scoped>\n",
       "    .dataframe tbody tr th:only-of-type {\n",
       "        vertical-align: middle;\n",
       "    }\n",
       "\n",
       "    .dataframe tbody tr th {\n",
       "        vertical-align: top;\n",
       "    }\n",
       "\n",
       "    .dataframe thead th {\n",
       "        text-align: right;\n",
       "    }\n",
       "</style>\n",
       "<table border=\"1\" class=\"dataframe\">\n",
       "  <thead>\n",
       "    <tr style=\"text-align: right;\">\n",
       "      <th></th>\n",
       "      <th>CustomerID</th>\n",
       "      <th>ProdTaken</th>\n",
       "      <th>Age</th>\n",
       "      <th>TypeofContact</th>\n",
       "      <th>CityTier</th>\n",
       "      <th>DurationOfPitch</th>\n",
       "      <th>Occupation</th>\n",
       "      <th>Gender</th>\n",
       "      <th>NumberOfPersonVisiting</th>\n",
       "      <th>NumberOfFollowups</th>\n",
       "      <th>ProductPitched</th>\n",
       "      <th>PreferredPropertyStar</th>\n",
       "      <th>MaritalStatus</th>\n",
       "      <th>NumberOfTrips</th>\n",
       "      <th>Passport</th>\n",
       "      <th>PitchSatisfactionScore</th>\n",
       "      <th>OwnCar</th>\n",
       "      <th>NumberOfChildrenVisiting</th>\n",
       "      <th>Designation</th>\n",
       "      <th>MonthlyIncome</th>\n",
       "    </tr>\n",
       "  </thead>\n",
       "  <tbody>\n",
       "    <tr>\n",
       "      <th>0</th>\n",
       "      <td>200000</td>\n",
       "      <td>1</td>\n",
       "      <td>41.0</td>\n",
       "      <td>Self Enquiry</td>\n",
       "      <td>3</td>\n",
       "      <td>6.0</td>\n",
       "      <td>Salaried</td>\n",
       "      <td>Female</td>\n",
       "      <td>3</td>\n",
       "      <td>3.0</td>\n",
       "      <td>Deluxe</td>\n",
       "      <td>3.0</td>\n",
       "      <td>Single</td>\n",
       "      <td>1.0</td>\n",
       "      <td>1</td>\n",
       "      <td>2</td>\n",
       "      <td>1</td>\n",
       "      <td>0.0</td>\n",
       "      <td>Manager</td>\n",
       "      <td>20993.0</td>\n",
       "    </tr>\n",
       "    <tr>\n",
       "      <th>1</th>\n",
       "      <td>200001</td>\n",
       "      <td>0</td>\n",
       "      <td>49.0</td>\n",
       "      <td>Company Invited</td>\n",
       "      <td>1</td>\n",
       "      <td>14.0</td>\n",
       "      <td>Salaried</td>\n",
       "      <td>Male</td>\n",
       "      <td>3</td>\n",
       "      <td>4.0</td>\n",
       "      <td>Deluxe</td>\n",
       "      <td>4.0</td>\n",
       "      <td>Divorced</td>\n",
       "      <td>2.0</td>\n",
       "      <td>0</td>\n",
       "      <td>3</td>\n",
       "      <td>1</td>\n",
       "      <td>2.0</td>\n",
       "      <td>Manager</td>\n",
       "      <td>20130.0</td>\n",
       "    </tr>\n",
       "    <tr>\n",
       "      <th>2</th>\n",
       "      <td>200002</td>\n",
       "      <td>1</td>\n",
       "      <td>37.0</td>\n",
       "      <td>Self Enquiry</td>\n",
       "      <td>1</td>\n",
       "      <td>8.0</td>\n",
       "      <td>Free Lancer</td>\n",
       "      <td>Male</td>\n",
       "      <td>3</td>\n",
       "      <td>4.0</td>\n",
       "      <td>Basic</td>\n",
       "      <td>3.0</td>\n",
       "      <td>Single</td>\n",
       "      <td>7.0</td>\n",
       "      <td>1</td>\n",
       "      <td>3</td>\n",
       "      <td>0</td>\n",
       "      <td>0.0</td>\n",
       "      <td>Executive</td>\n",
       "      <td>17090.0</td>\n",
       "    </tr>\n",
       "    <tr>\n",
       "      <th>3</th>\n",
       "      <td>200003</td>\n",
       "      <td>0</td>\n",
       "      <td>33.0</td>\n",
       "      <td>Company Invited</td>\n",
       "      <td>1</td>\n",
       "      <td>9.0</td>\n",
       "      <td>Salaried</td>\n",
       "      <td>Female</td>\n",
       "      <td>2</td>\n",
       "      <td>3.0</td>\n",
       "      <td>Basic</td>\n",
       "      <td>3.0</td>\n",
       "      <td>Divorced</td>\n",
       "      <td>2.0</td>\n",
       "      <td>1</td>\n",
       "      <td>5</td>\n",
       "      <td>1</td>\n",
       "      <td>1.0</td>\n",
       "      <td>Executive</td>\n",
       "      <td>17909.0</td>\n",
       "    </tr>\n",
       "    <tr>\n",
       "      <th>4</th>\n",
       "      <td>200004</td>\n",
       "      <td>0</td>\n",
       "      <td>NaN</td>\n",
       "      <td>Self Enquiry</td>\n",
       "      <td>1</td>\n",
       "      <td>8.0</td>\n",
       "      <td>Small Business</td>\n",
       "      <td>Male</td>\n",
       "      <td>2</td>\n",
       "      <td>3.0</td>\n",
       "      <td>Basic</td>\n",
       "      <td>4.0</td>\n",
       "      <td>Divorced</td>\n",
       "      <td>1.0</td>\n",
       "      <td>0</td>\n",
       "      <td>5</td>\n",
       "      <td>1</td>\n",
       "      <td>0.0</td>\n",
       "      <td>Executive</td>\n",
       "      <td>18468.0</td>\n",
       "    </tr>\n",
       "  </tbody>\n",
       "</table>\n",
       "</div>"
      ],
      "text/plain": [
       "   CustomerID  ProdTaken   Age    TypeofContact  CityTier  DurationOfPitch  \\\n",
       "0      200000          1  41.0     Self Enquiry         3              6.0   \n",
       "1      200001          0  49.0  Company Invited         1             14.0   \n",
       "2      200002          1  37.0     Self Enquiry         1              8.0   \n",
       "3      200003          0  33.0  Company Invited         1              9.0   \n",
       "4      200004          0   NaN     Self Enquiry         1              8.0   \n",
       "\n",
       "       Occupation  Gender  NumberOfPersonVisiting  NumberOfFollowups  \\\n",
       "0        Salaried  Female                       3                3.0   \n",
       "1        Salaried    Male                       3                4.0   \n",
       "2     Free Lancer    Male                       3                4.0   \n",
       "3        Salaried  Female                       2                3.0   \n",
       "4  Small Business    Male                       2                3.0   \n",
       "\n",
       "  ProductPitched  PreferredPropertyStar MaritalStatus  NumberOfTrips  \\\n",
       "0         Deluxe                    3.0        Single            1.0   \n",
       "1         Deluxe                    4.0      Divorced            2.0   \n",
       "2          Basic                    3.0        Single            7.0   \n",
       "3          Basic                    3.0      Divorced            2.0   \n",
       "4          Basic                    4.0      Divorced            1.0   \n",
       "\n",
       "   Passport  PitchSatisfactionScore  OwnCar  NumberOfChildrenVisiting  \\\n",
       "0         1                       2       1                       0.0   \n",
       "1         0                       3       1                       2.0   \n",
       "2         1                       3       0                       0.0   \n",
       "3         1                       5       1                       1.0   \n",
       "4         0                       5       1                       0.0   \n",
       "\n",
       "  Designation  MonthlyIncome  \n",
       "0     Manager        20993.0  \n",
       "1     Manager        20130.0  \n",
       "2   Executive        17090.0  \n",
       "3   Executive        17909.0  \n",
       "4   Executive        18468.0  "
      ]
     },
     "execution_count": 2,
     "metadata": {},
     "output_type": "execute_result"
    }
   ],
   "source": [
    "data = pd.read_csv('Travel.csv')\n",
    "df = data.copy()\n",
    "df.head()"
   ]
  },
  {
   "cell_type": "code",
   "execution_count": 3,
   "id": "e26094ca-e8d8-4a24-992c-1246c12865d3",
   "metadata": {
    "colab": {
     "base_uri": "https://localhost:8080/"
    },
    "execution": {
     "iopub.execute_input": "2022-04-01T06:10:09.627673Z",
     "iopub.status.busy": "2022-04-01T06:10:09.627673Z",
     "iopub.status.idle": "2022-04-01T06:10:09.641831Z",
     "shell.execute_reply": "2022-04-01T06:10:09.641321Z",
     "shell.execute_reply.started": "2022-04-01T06:10:09.627673Z"
    },
    "id": "e26094ca-e8d8-4a24-992c-1246c12865d3",
    "outputId": "c5d42e7e-e3a8-4985-caa7-c01160d56ecb"
   },
   "outputs": [
    {
     "data": {
      "text/plain": [
       "male      2916\n",
       "female    1972\n",
       "Name: Gender, dtype: int64"
      ]
     },
     "execution_count": 3,
     "metadata": {},
     "output_type": "execute_result"
    }
   ],
   "source": [
    "# Mengubah fe male menjadi female\n",
    "df['Gender'] = df['Gender'].astype('category')\n",
    "df['Gender'] = df['Gender'].cat.rename_categories({'Fe Male': 'female'})\n",
    "df['Gender'] = df['Gender'].str.lower()\n",
    "df['Gender'].value_counts()"
   ]
  },
  {
   "cell_type": "code",
   "execution_count": 4,
   "id": "aeebd970-0ba3-42e8-9f3d-fbbb0fb902d4",
   "metadata": {
    "colab": {
     "base_uri": "https://localhost:8080/"
    },
    "execution": {
     "iopub.execute_input": "2022-04-01T06:10:09.643009Z",
     "iopub.status.busy": "2022-04-01T06:10:09.641831Z",
     "iopub.status.idle": "2022-04-01T06:10:09.656640Z",
     "shell.execute_reply": "2022-04-01T06:10:09.656349Z",
     "shell.execute_reply.started": "2022-04-01T06:10:09.643009Z"
    },
    "id": "aeebd970-0ba3-42e8-9f3d-fbbb0fb902d4",
    "outputId": "2c603a45-59dc-4e4a-a5ec-b99b07554971"
   },
   "outputs": [
    {
     "data": {
      "text/plain": [
       "Married     2340\n",
       "Single      1598\n",
       "Divorced     950\n",
       "Name: MaritalStatus, dtype: int64"
      ]
     },
     "execution_count": 4,
     "metadata": {},
     "output_type": "execute_result"
    }
   ],
   "source": [
    "# Mengelompokkan unmarried dan single ke dalam kategori single\n",
    "df['MaritalStatus'] = df['MaritalStatus'].replace(['Unmarried'], 'Single')\n",
    "df['MaritalStatus'].value_counts()"
   ]
  },
  {
   "cell_type": "markdown",
   "id": "41c63a55-37d0-4dd9-b6c0-a037c0f7dbf2",
   "metadata": {
    "id": "IKYTasgQfHti"
   },
   "source": [
    "# Membuang fitur yang tidak digunakan\n",
    "df.drop(columns=['CustomerID'],inplace = True)"
   ]
  },
  {
   "cell_type": "code",
   "execution_count": 5,
   "id": "3c8ac002-25b5-475d-be5f-310791d4f577",
   "metadata": {
    "colab": {
     "base_uri": "https://localhost:8080/"
    },
    "execution": {
     "iopub.execute_input": "2022-04-01T06:10:09.660758Z",
     "iopub.status.busy": "2022-04-01T06:10:09.659757Z",
     "iopub.status.idle": "2022-04-01T06:10:09.672394Z",
     "shell.execute_reply": "2022-04-01T06:10:09.672394Z",
     "shell.execute_reply.started": "2022-04-01T06:10:09.660758Z"
    },
    "id": "3c8ac002-25b5-475d-be5f-310791d4f577",
    "outputId": "9b5a832a-91ba-45e9-abd7-848d2f9740ad"
   },
   "outputs": [
    {
     "data": {
      "text/plain": [
       "CustomerID                    0\n",
       "ProdTaken                     0\n",
       "Age                         226\n",
       "TypeofContact                25\n",
       "CityTier                      0\n",
       "DurationOfPitch             251\n",
       "Occupation                    0\n",
       "Gender                        0\n",
       "NumberOfPersonVisiting        0\n",
       "NumberOfFollowups            45\n",
       "ProductPitched                0\n",
       "PreferredPropertyStar        26\n",
       "MaritalStatus                 0\n",
       "NumberOfTrips               140\n",
       "Passport                      0\n",
       "PitchSatisfactionScore        0\n",
       "OwnCar                        0\n",
       "NumberOfChildrenVisiting     66\n",
       "Designation                   0\n",
       "MonthlyIncome               233\n",
       "dtype: int64"
      ]
     },
     "execution_count": 5,
     "metadata": {},
     "output_type": "execute_result"
    }
   ],
   "source": [
    "# Melihat kolom-kolom yang masih mempunyai missing values\n",
    "df.isna().sum()"
   ]
  },
  {
   "cell_type": "code",
   "execution_count": 6,
   "id": "N9LUFhV_DjoP",
   "metadata": {
    "colab": {
     "base_uri": "https://localhost:8080/"
    },
    "execution": {
     "iopub.execute_input": "2022-04-01T06:10:09.675599Z",
     "iopub.status.busy": "2022-04-01T06:10:09.674094Z",
     "iopub.status.idle": "2022-04-01T06:10:09.688307Z",
     "shell.execute_reply": "2022-04-01T06:10:09.688307Z",
     "shell.execute_reply.started": "2022-04-01T06:10:09.675599Z"
    },
    "id": "N9LUFhV_DjoP",
    "outputId": "f4e50d9e-9701-42cc-9701-260461d58532"
   },
   "outputs": [
    {
     "data": {
      "text/plain": [
       "CustomerID                  0.000000\n",
       "ProdTaken                   0.000000\n",
       "Age                         4.623568\n",
       "TypeofContact               0.511457\n",
       "CityTier                    0.000000\n",
       "DurationOfPitch             5.135025\n",
       "Occupation                  0.000000\n",
       "Gender                      0.000000\n",
       "NumberOfPersonVisiting      0.000000\n",
       "NumberOfFollowups           0.920622\n",
       "ProductPitched              0.000000\n",
       "PreferredPropertyStar       0.531915\n",
       "MaritalStatus               0.000000\n",
       "NumberOfTrips               2.864157\n",
       "Passport                    0.000000\n",
       "PitchSatisfactionScore      0.000000\n",
       "OwnCar                      0.000000\n",
       "NumberOfChildrenVisiting    1.350245\n",
       "Designation                 0.000000\n",
       "MonthlyIncome               4.766776\n",
       "dtype: float64"
      ]
     },
     "execution_count": 6,
     "metadata": {},
     "output_type": "execute_result"
    }
   ],
   "source": [
    "# Melihat persentase missing values\n",
    "percent_missing = df.isnull().sum() * 100 / len(df)\n",
    "percent_missing"
   ]
  },
  {
   "cell_type": "code",
   "execution_count": 7,
   "id": "b769df8d-9899-4caf-8396-0378af7e83f7",
   "metadata": {
    "execution": {
     "iopub.execute_input": "2022-04-01T06:10:09.690390Z",
     "iopub.status.busy": "2022-04-01T06:10:09.690047Z",
     "iopub.status.idle": "2022-04-01T06:10:09.705983Z",
     "shell.execute_reply": "2022-04-01T06:10:09.705102Z",
     "shell.execute_reply.started": "2022-04-01T06:10:09.690047Z"
    },
    "id": "b769df8d-9899-4caf-8396-0378af7e83f7"
   },
   "outputs": [],
   "source": [
    "# Menghapus baris yang mengandung missing values < 1%\n",
    "df = df.dropna(subset=['TypeofContact', 'NumberOfFollowups', 'PreferredPropertyStar'])"
   ]
  },
  {
   "cell_type": "code",
   "execution_count": 8,
   "id": "a75a059f-08d7-4370-89a6-1edc6a1cb4bb",
   "metadata": {
    "execution": {
     "iopub.execute_input": "2022-04-01T06:10:09.708359Z",
     "iopub.status.busy": "2022-04-01T06:10:09.707015Z",
     "iopub.status.idle": "2022-04-01T06:10:09.720666Z",
     "shell.execute_reply": "2022-04-01T06:10:09.719800Z",
     "shell.execute_reply.started": "2022-04-01T06:10:09.707860Z"
    },
    "id": "a75a059f-08d7-4370-89a6-1edc6a1cb4bb"
   },
   "outputs": [],
   "source": [
    "# Mengisi missing values pada kolom 'Age' dan 'DurationOfPitch' dengan mean karena distribusinya mendekati normal, dan mengisi nilai median untuk kolom 'MonthlyIncome' karena skew positif\n",
    "df['Age'].fillna(df['Age'].mean(), inplace=True)\n",
    "df['DurationOfPitch'].fillna(df['DurationOfPitch'].mean(), inplace=True)\n",
    "df['MonthlyIncome'].fillna(df['MonthlyIncome'].median(), inplace=True)"
   ]
  },
  {
   "cell_type": "code",
   "execution_count": 9,
   "id": "6dfeadb7-a91d-4383-b4a7-052bcce6e0f5",
   "metadata": {
    "execution": {
     "iopub.execute_input": "2022-04-01T06:10:09.722175Z",
     "iopub.status.busy": "2022-04-01T06:10:09.721166Z",
     "iopub.status.idle": "2022-04-01T06:10:09.734752Z",
     "shell.execute_reply": "2022-04-01T06:10:09.734752Z",
     "shell.execute_reply.started": "2022-04-01T06:10:09.722175Z"
    },
    "id": "6dfeadb7-a91d-4383-b4a7-052bcce6e0f5"
   },
   "outputs": [],
   "source": [
    "# Mengisi missing values pada kolom 'NumberOfTrips', 'NumberOfChildrenVisiting', 'PreferredPropertyStar' dengan nilai modus\n",
    "df['NumberOfTrips'].fillna(df['NumberOfTrips'].mode()[0], inplace=True)\n",
    "df['NumberOfChildrenVisiting'].fillna(df['NumberOfChildrenVisiting'].mode()[0], inplace=True)\n",
    "df['PreferredPropertyStar'].fillna(df['PreferredPropertyStar'].mode()[0], inplace=True)"
   ]
  },
  {
   "cell_type": "code",
   "execution_count": 10,
   "id": "994b14b9-04cd-422e-9fe9-c8e938d47045",
   "metadata": {
    "colab": {
     "base_uri": "https://localhost:8080/"
    },
    "execution": {
     "iopub.execute_input": "2022-04-01T06:10:09.738530Z",
     "iopub.status.busy": "2022-04-01T06:10:09.737854Z",
     "iopub.status.idle": "2022-04-01T06:10:09.751714Z",
     "shell.execute_reply": "2022-04-01T06:10:09.751038Z",
     "shell.execute_reply.started": "2022-04-01T06:10:09.738530Z"
    },
    "id": "994b14b9-04cd-422e-9fe9-c8e938d47045",
    "outputId": "91f248f2-0c93-4d80-f70b-00112378ebc1"
   },
   "outputs": [
    {
     "data": {
      "text/plain": [
       "CustomerID                  0\n",
       "ProdTaken                   0\n",
       "Age                         0\n",
       "TypeofContact               0\n",
       "CityTier                    0\n",
       "DurationOfPitch             0\n",
       "Occupation                  0\n",
       "Gender                      0\n",
       "NumberOfPersonVisiting      0\n",
       "NumberOfFollowups           0\n",
       "ProductPitched              0\n",
       "PreferredPropertyStar       0\n",
       "MaritalStatus               0\n",
       "NumberOfTrips               0\n",
       "Passport                    0\n",
       "PitchSatisfactionScore      0\n",
       "OwnCar                      0\n",
       "NumberOfChildrenVisiting    0\n",
       "Designation                 0\n",
       "MonthlyIncome               0\n",
       "dtype: int64"
      ]
     },
     "execution_count": 10,
     "metadata": {},
     "output_type": "execute_result"
    }
   ],
   "source": [
    "# Memeriksa apakah masih ada kolom dengan missing values\n",
    "df.isna().sum()"
   ]
  },
  {
   "cell_type": "code",
   "execution_count": 11,
   "id": "b607ad34-f375-47ca-91c9-600ffd653e50",
   "metadata": {
    "colab": {
     "base_uri": "https://localhost:8080/"
    },
    "execution": {
     "iopub.execute_input": "2022-04-01T06:10:09.753659Z",
     "iopub.status.busy": "2022-04-01T06:10:09.752714Z",
     "iopub.status.idle": "2022-04-01T06:10:09.782752Z",
     "shell.execute_reply": "2022-04-01T06:10:09.782752Z",
     "shell.execute_reply.started": "2022-04-01T06:10:09.753659Z"
    },
    "id": "b607ad34-f375-47ca-91c9-600ffd653e50",
    "outputId": "7068e1c7-3c4e-40be-f8ef-8edef8d5fe61"
   },
   "outputs": [
    {
     "data": {
      "text/plain": [
       "0"
      ]
     },
     "execution_count": 11,
     "metadata": {},
     "output_type": "execute_result"
    }
   ],
   "source": [
    "# Pengecekan data duplikat\n",
    "df.duplicated().sum()"
   ]
  },
  {
   "cell_type": "code",
   "execution_count": 12,
   "id": "d553ed5f-9e54-40d2-89a2-9729b1b928ab",
   "metadata": {
    "execution": {
     "iopub.execute_input": "2022-04-01T06:10:09.787846Z",
     "iopub.status.busy": "2022-04-01T06:10:09.785800Z",
     "iopub.status.idle": "2022-04-01T06:10:09.826516Z",
     "shell.execute_reply": "2022-04-01T06:10:09.815937Z",
     "shell.execute_reply.started": "2022-04-01T06:10:09.787846Z"
    },
    "id": "d553ed5f-9e54-40d2-89a2-9729b1b928ab"
   },
   "outputs": [],
   "source": [
    "# Menghapus data duplikat\n",
    "df.drop_duplicates(inplace = True)"
   ]
  },
  {
   "cell_type": "code",
   "execution_count": 13,
   "id": "0d21588a-5e31-4bfe-a7f9-7ccec64ac681",
   "metadata": {
    "colab": {
     "base_uri": "https://localhost:8080/"
    },
    "execution": {
     "iopub.execute_input": "2022-04-01T06:10:09.831519Z",
     "iopub.status.busy": "2022-04-01T06:10:09.830519Z",
     "iopub.status.idle": "2022-04-01T06:10:09.845063Z",
     "shell.execute_reply": "2022-04-01T06:10:09.845063Z",
     "shell.execute_reply.started": "2022-04-01T06:10:09.831519Z"
    },
    "id": "0d21588a-5e31-4bfe-a7f9-7ccec64ac681",
    "outputId": "694749d8-5767-4d3f-9053-7c8a47c77706"
   },
   "outputs": [
    {
     "data": {
      "text/plain": [
       "0"
      ]
     },
     "execution_count": 13,
     "metadata": {},
     "output_type": "execute_result"
    }
   ],
   "source": [
    "# Pengecekan data duplikat kembali untuk memastikan sudah terhapus semua\n",
    "df.duplicated().sum()"
   ]
  },
  {
   "cell_type": "code",
   "execution_count": 14,
   "id": "8cc56408-f44b-4dc1-a4f4-da9a74ac6fe0",
   "metadata": {
    "colab": {
     "base_uri": "https://localhost:8080/"
    },
    "execution": {
     "iopub.execute_input": "2022-04-01T06:10:09.847041Z",
     "iopub.status.busy": "2022-04-01T06:10:09.847041Z",
     "iopub.status.idle": "2022-04-01T06:10:09.878605Z",
     "shell.execute_reply": "2022-04-01T06:10:09.877606Z",
     "shell.execute_reply.started": "2022-04-01T06:10:09.847041Z"
    },
    "id": "8cc56408-f44b-4dc1-a4f4-da9a74ac6fe0",
    "outputId": "d200f30e-91bc-417a-a933-c6ba7ac2dc9b"
   },
   "outputs": [
    {
     "name": "stdout",
     "output_type": "stream",
     "text": [
      "<class 'pandas.core.frame.DataFrame'>\n",
      "Int64Index: 4792 entries, 0 to 4887\n",
      "Data columns (total 20 columns):\n",
      " #   Column                    Non-Null Count  Dtype  \n",
      "---  ------                    --------------  -----  \n",
      " 0   CustomerID                4792 non-null   int64  \n",
      " 1   ProdTaken                 4792 non-null   int64  \n",
      " 2   Age                       4792 non-null   float64\n",
      " 3   TypeofContact             4792 non-null   object \n",
      " 4   CityTier                  4792 non-null   int64  \n",
      " 5   DurationOfPitch           4792 non-null   float64\n",
      " 6   Occupation                4792 non-null   object \n",
      " 7   Gender                    4792 non-null   object \n",
      " 8   NumberOfPersonVisiting    4792 non-null   int64  \n",
      " 9   NumberOfFollowups         4792 non-null   float64\n",
      " 10  ProductPitched            4792 non-null   object \n",
      " 11  PreferredPropertyStar     4792 non-null   float64\n",
      " 12  MaritalStatus             4792 non-null   object \n",
      " 13  NumberOfTrips             4792 non-null   float64\n",
      " 14  Passport                  4792 non-null   int64  \n",
      " 15  PitchSatisfactionScore    4792 non-null   int64  \n",
      " 16  OwnCar                    4792 non-null   int64  \n",
      " 17  NumberOfChildrenVisiting  4792 non-null   float64\n",
      " 18  Designation               4792 non-null   object \n",
      " 19  MonthlyIncome             4792 non-null   float64\n",
      "dtypes: float64(7), int64(7), object(6)\n",
      "memory usage: 786.2+ KB\n"
     ]
    }
   ],
   "source": [
    "# Melihat jumlah baris setelah menghapus data duplikat\n",
    "df.info()"
   ]
  },
  {
   "cell_type": "code",
   "execution_count": 15,
   "id": "7032b9d5-8f7f-4ce7-9b66-703f88d4a267",
   "metadata": {
    "colab": {
     "base_uri": "https://localhost:8080/"
    },
    "execution": {
     "iopub.execute_input": "2022-04-01T06:10:09.879605Z",
     "iopub.status.busy": "2022-04-01T06:10:09.879605Z",
     "iopub.status.idle": "2022-04-01T06:10:09.908678Z",
     "shell.execute_reply": "2022-04-01T06:10:09.907674Z",
     "shell.execute_reply.started": "2022-04-01T06:10:09.879605Z"
    },
    "id": "7032b9d5-8f7f-4ce7-9b66-703f88d4a267",
    "outputId": "f16ea7e7-cc5a-4719-d5fe-ff909a5801d3"
   },
   "outputs": [
    {
     "name": "stdout",
     "output_type": "stream",
     "text": [
      "\n",
      "Persebaran data sebelum ditangani Outlier: \n",
      "       DurationOfPitch  NumberOfTrips  MonthlyIncome  NumberOfFollowups  \\\n",
      "count      4792.000000    4792.000000    4792.000000        4792.000000   \n",
      "mean         15.512484       3.199917   23507.280050           3.706177   \n",
      "std           8.335067       1.831135    5082.923333           0.999091   \n",
      "min           5.000000       1.000000    1000.000000           1.000000   \n",
      "25%           9.000000       2.000000   20582.000000           3.000000   \n",
      "50%          14.000000       3.000000   22368.500000           4.000000   \n",
      "75%          19.000000       4.000000   25407.750000           4.000000   \n",
      "max         127.000000      22.000000   98678.000000           6.000000   \n",
      "\n",
      "       NumberOfPersonVisiting  \n",
      "count             4792.000000  \n",
      "mean                 2.909015  \n",
      "std                  0.723279  \n",
      "min                  1.000000  \n",
      "25%                  2.000000  \n",
      "50%                  3.000000  \n",
      "75%                  3.000000  \n",
      "max                  5.000000  \n"
     ]
    }
   ],
   "source": [
    "# Memeriksa persebaran outlier\n",
    "print('\\nPersebaran data sebelum ditangani Outlier: ')\n",
    "print(df[['DurationOfPitch', 'NumberOfTrips', 'MonthlyIncome', 'NumberOfFollowups', 'NumberOfPersonVisiting']].describe())"
   ]
  },
  {
   "cell_type": "code",
   "execution_count": 16,
   "id": "6bb9355b-491b-4ea1-993e-b87756f7af61",
   "metadata": {
    "colab": {
     "base_uri": "https://localhost:8080/"
    },
    "execution": {
     "iopub.execute_input": "2022-04-01T06:10:09.910318Z",
     "iopub.status.busy": "2022-04-01T06:10:09.910318Z",
     "iopub.status.idle": "2022-04-01T06:10:10.016391Z",
     "shell.execute_reply": "2022-04-01T06:10:10.015620Z",
     "shell.execute_reply.started": "2022-04-01T06:10:09.910318Z"
    },
    "id": "6bb9355b-491b-4ea1-993e-b87756f7af61",
    "outputId": "dbea4a4f-4a05-4267-b38e-2736f5c4720e"
   },
   "outputs": [
    {
     "name": "stdout",
     "output_type": "stream",
     "text": [
      "Nilai IQR dari masing-masing Variable adalah: \n",
      "DurationOfPitch             10.00\n",
      "NumberOfTrips                2.00\n",
      "MonthlyIncome             4825.75\n",
      "NumberOfFollowups            1.00\n",
      "NumberOfPersonVisiting       1.00\n",
      "dtype: float64\n",
      "Nilai Maximum dari masing-masing Variable adalah: \n",
      "DurationOfPitch              34.000\n",
      "NumberOfTrips                 7.000\n",
      "MonthlyIncome             32646.375\n",
      "NumberOfFollowups             5.500\n",
      "NumberOfPersonVisiting        4.500\n",
      "dtype: float64\n",
      "Nilai Minimum dari masing-masing Variable adalah: \n",
      "DurationOfPitch              -6.000\n",
      "NumberOfTrips                -1.000\n",
      "MonthlyIncome             13343.375\n",
      "NumberOfFollowups             1.500\n",
      "NumberOfPersonVisiting        0.500\n",
      "dtype: float64\n",
      "\n",
      "Persebaran data setelah ditangani Outlier: \n",
      "       DurationOfPitch  NumberOfTrips  MonthlyIncome  NumberOfFollowups  \\\n",
      "count      4792.000000    4792.000000    4792.000000        4792.000000   \n",
      "mean         15.442367       3.166945   23290.612557           3.710559   \n",
      "std           7.953208       1.710676    4462.980803           0.924407   \n",
      "min           5.000000       1.000000   13343.375000           1.500000   \n",
      "25%           9.000000       2.000000   20582.000000           3.000000   \n",
      "50%          14.000000       3.000000   22368.500000           4.000000   \n",
      "75%          19.000000       4.000000   25407.750000           4.000000   \n",
      "max          34.000000       7.000000   32646.375000           5.500000   \n",
      "\n",
      "       NumberOfPersonVisiting  \n",
      "count             4792.000000  \n",
      "mean                 2.908702  \n",
      "std                  0.722482  \n",
      "min                  1.000000  \n",
      "25%                  2.000000  \n",
      "50%                  3.000000  \n",
      "75%                  3.000000  \n",
      "max                  4.500000  \n"
     ]
    }
   ],
   "source": [
    "# Menangani outlier dengan metode IQR\n",
    "Q1 = (df[['DurationOfPitch', 'NumberOfTrips', 'MonthlyIncome', 'NumberOfFollowups', 'NumberOfPersonVisiting']]).quantile(0.25)\n",
    "Q3 = (df[['DurationOfPitch', 'NumberOfTrips', 'MonthlyIncome', 'NumberOfFollowups', 'NumberOfPersonVisiting']]).quantile(0.75)\n",
    "\n",
    "IQR = Q3 - Q1\n",
    "print('Nilai IQR dari masing-masing Variable adalah: ')\n",
    "print(IQR)\n",
    "\n",
    "maximum = Q3 + (1.5*IQR)\n",
    "print('Nilai Maximum dari masing-masing Variable adalah: ')\n",
    "print(maximum)\n",
    "\n",
    "minimum = Q1 - (1.5*IQR)\n",
    "print('Nilai Minimum dari masing-masing Variable adalah: ')\n",
    "print(minimum)\n",
    "\n",
    "more_than = (df > maximum)\n",
    "lower_than = (df < minimum)\n",
    "df = df.mask(more_than, maximum, axis=1)\n",
    "df = df.mask(lower_than, minimum, axis=1)\n",
    "print('\\nPersebaran data setelah ditangani Outlier: ')\n",
    "print(df[['DurationOfPitch', 'NumberOfTrips', 'MonthlyIncome', 'NumberOfFollowups', 'NumberOfPersonVisiting']].describe())"
   ]
  },
  {
   "cell_type": "code",
   "execution_count": 17,
   "id": "529dbe64-71c5-486b-8b86-efb47f716256",
   "metadata": {
    "colab": {
     "base_uri": "https://localhost:8080/",
     "height": 175
    },
    "execution": {
     "iopub.execute_input": "2022-04-01T06:10:10.017573Z",
     "iopub.status.busy": "2022-04-01T06:10:10.017573Z",
     "iopub.status.idle": "2022-04-01T06:10:10.077250Z",
     "shell.execute_reply": "2022-04-01T06:10:10.077109Z",
     "shell.execute_reply.started": "2022-04-01T06:10:10.017573Z"
    },
    "id": "529dbe64-71c5-486b-8b86-efb47f716256",
    "outputId": "03aaf0b4-5848-4425-c44a-ec4ecf6dc5c1"
   },
   "outputs": [
    {
     "data": {
      "text/html": [
       "<div>\n",
       "<style scoped>\n",
       "    .dataframe tbody tr th:only-of-type {\n",
       "        vertical-align: middle;\n",
       "    }\n",
       "\n",
       "    .dataframe tbody tr th {\n",
       "        vertical-align: top;\n",
       "    }\n",
       "\n",
       "    .dataframe thead th {\n",
       "        text-align: right;\n",
       "    }\n",
       "</style>\n",
       "<table border=\"1\" class=\"dataframe\">\n",
       "  <thead>\n",
       "    <tr style=\"text-align: right;\">\n",
       "      <th></th>\n",
       "      <th>TypeofContact</th>\n",
       "      <th>Occupation</th>\n",
       "      <th>ProductPitched</th>\n",
       "      <th>MaritalStatus</th>\n",
       "      <th>Designation</th>\n",
       "      <th>Gender</th>\n",
       "    </tr>\n",
       "  </thead>\n",
       "  <tbody>\n",
       "    <tr>\n",
       "      <th>count</th>\n",
       "      <td>4792</td>\n",
       "      <td>4792</td>\n",
       "      <td>4792</td>\n",
       "      <td>4792</td>\n",
       "      <td>4792</td>\n",
       "      <td>4792</td>\n",
       "    </tr>\n",
       "    <tr>\n",
       "      <th>unique</th>\n",
       "      <td>2</td>\n",
       "      <td>4</td>\n",
       "      <td>5</td>\n",
       "      <td>3</td>\n",
       "      <td>5</td>\n",
       "      <td>2</td>\n",
       "    </tr>\n",
       "    <tr>\n",
       "      <th>top</th>\n",
       "      <td>Self Enquiry</td>\n",
       "      <td>Salaried</td>\n",
       "      <td>Basic</td>\n",
       "      <td>Married</td>\n",
       "      <td>Executive</td>\n",
       "      <td>male</td>\n",
       "    </tr>\n",
       "    <tr>\n",
       "      <th>freq</th>\n",
       "      <td>3392</td>\n",
       "      <td>2327</td>\n",
       "      <td>1818</td>\n",
       "      <td>2292</td>\n",
       "      <td>1818</td>\n",
       "      <td>2859</td>\n",
       "    </tr>\n",
       "  </tbody>\n",
       "</table>\n",
       "</div>"
      ],
      "text/plain": [
       "       TypeofContact Occupation ProductPitched MaritalStatus Designation  \\\n",
       "count           4792       4792           4792          4792        4792   \n",
       "unique             2          4              5             3           5   \n",
       "top     Self Enquiry   Salaried          Basic       Married   Executive   \n",
       "freq            3392       2327           1818          2292        1818   \n",
       "\n",
       "       Gender  \n",
       "count    4792  \n",
       "unique      2  \n",
       "top      male  \n",
       "freq     2859  "
      ]
     },
     "execution_count": 17,
     "metadata": {},
     "output_type": "execute_result"
    }
   ],
   "source": [
    "cats = ['TypeofContact', 'Occupation', 'ProductPitched', 'MaritalStatus', 'Designation', 'Gender']\n",
    "df[cats].describe()"
   ]
  },
  {
   "cell_type": "code",
   "execution_count": 18,
   "id": "cbaae147-6db8-4b12-adee-bfa3258361fe",
   "metadata": {
    "colab": {
     "base_uri": "https://localhost:8080/"
    },
    "execution": {
     "iopub.execute_input": "2022-04-01T06:10:10.079599Z",
     "iopub.status.busy": "2022-04-01T06:10:10.079100Z",
     "iopub.status.idle": "2022-04-01T06:10:10.110900Z",
     "shell.execute_reply": "2022-04-01T06:10:10.109463Z",
     "shell.execute_reply.started": "2022-04-01T06:10:10.079599Z"
    },
    "id": "cbaae147-6db8-4b12-adee-bfa3258361fe",
    "outputId": "564c9fc7-59d5-493b-dde3-9ff6644bc26e"
   },
   "outputs": [
    {
     "name": "stdout",
     "output_type": "stream",
     "text": [
      "Value count kolom TypeofContact:\n",
      "Self Enquiry       3392\n",
      "Company Invited    1400\n",
      "Name: TypeofContact, dtype: int64\n",
      "\n",
      "Value count kolom Occupation:\n",
      "Salaried          2327\n",
      "Small Business    2033\n",
      "Large Business     430\n",
      "Free Lancer          2\n",
      "Name: Occupation, dtype: int64\n",
      "\n",
      "Value count kolom ProductPitched:\n",
      "Basic           1818\n",
      "Deluxe          1684\n",
      "Standard         741\n",
      "Super Deluxe     342\n",
      "King             207\n",
      "Name: ProductPitched, dtype: int64\n",
      "\n",
      "Value count kolom MaritalStatus:\n",
      "Married     2292\n",
      "Single      1567\n",
      "Divorced     933\n",
      "Name: MaritalStatus, dtype: int64\n",
      "\n",
      "Value count kolom Designation:\n",
      "Executive         1818\n",
      "Manager           1684\n",
      "Senior Manager     741\n",
      "AVP                342\n",
      "VP                 207\n",
      "Name: Designation, dtype: int64\n",
      "\n",
      "Value count kolom Gender:\n",
      "male      2859\n",
      "female    1933\n",
      "Name: Gender, dtype: int64\n",
      "\n"
     ]
    }
   ],
   "source": [
    "# Melihat values dari kolom-kolom kategorikal\n",
    "for col in cats:\n",
    "    print(f'''Value count kolom {col}:''')\n",
    "    print(df[col].value_counts())\n",
    "    print()"
   ]
  },
  {
   "cell_type": "code",
   "execution_count": 19,
   "id": "a7d00317-4747-4853-b40e-958b444a386d",
   "metadata": {
    "execution": {
     "iopub.execute_input": "2022-04-01T06:10:10.115294Z",
     "iopub.status.busy": "2022-04-01T06:10:10.113912Z",
     "iopub.status.idle": "2022-04-01T06:10:10.139469Z",
     "shell.execute_reply": "2022-04-01T06:10:10.138477Z",
     "shell.execute_reply.started": "2022-04-01T06:10:10.115294Z"
    },
    "id": "a7d00317-4747-4853-b40e-958b444a386d"
   },
   "outputs": [],
   "source": [
    "# Label encoding\n",
    "mapping_ProductPitched = {\n",
    "    'Basic' : 0,\n",
    "    'Standard' : 1,\n",
    "    'Deluxe' : 2,\n",
    "    'Super Deluxe' : 3,\n",
    "    'King' : 4   \n",
    "}\n",
    "\n",
    "mapping_Designation = {\n",
    "    'Executive' : 0,\n",
    "    'Manager' : 1,\n",
    "    'Senior Manager' : 2,\n",
    "    'AVP' : 3,\n",
    "    'VP' : 4   \n",
    "}\n",
    "mapping_MaritalStatus = {\n",
    "    'Married' : 0,\n",
    "    'Single' : 1,\n",
    "    'Divorced' : 2,\n",
    "}\n",
    "\n",
    "df['ProductPitched'] = df['ProductPitched'].map(mapping_ProductPitched)\n",
    "df['Designation'] = df['Designation'].map(mapping_Designation)\n",
    "df['MaritalStatus'] = df['MaritalStatus'].map(mapping_MaritalStatus)"
   ]
  },
  {
   "cell_type": "code",
   "execution_count": 20,
   "id": "3cb2326b-3ccf-4c11-950b-0aca187d4f64",
   "metadata": {
    "execution": {
     "iopub.execute_input": "2022-04-01T06:10:10.140469Z",
     "iopub.status.busy": "2022-04-01T06:10:10.140469Z",
     "iopub.status.idle": "2022-04-01T06:10:10.155088Z",
     "shell.execute_reply": "2022-04-01T06:10:10.154090Z",
     "shell.execute_reply.started": "2022-04-01T06:10:10.140469Z"
    },
    "id": "3cb2326b-3ccf-4c11-950b-0aca187d4f64"
   },
   "outputs": [],
   "source": [
    "# One hot encoding\n",
    "for cat in ['TypeofContact', 'Occupation', 'Gender']:\n",
    "    onehots = pd.get_dummies(df[cat], prefix=cat)\n",
    "    df = df.join(onehots)"
   ]
  },
  {
   "cell_type": "code",
   "execution_count": 21,
   "id": "e4831976-b501-4216-95a0-309e99a8bbb9",
   "metadata": {
    "execution": {
     "iopub.execute_input": "2022-04-01T06:10:10.156089Z",
     "iopub.status.busy": "2022-04-01T06:10:10.156089Z",
     "iopub.status.idle": "2022-04-01T06:10:10.170444Z",
     "shell.execute_reply": "2022-04-01T06:10:10.169448Z",
     "shell.execute_reply.started": "2022-04-01T06:10:10.156089Z"
    },
    "id": "e4831976-b501-4216-95a0-309e99a8bbb9"
   },
   "outputs": [],
   "source": [
    "# Menghapus kolom yang outdated setelah feature encoding\n",
    "df = df.drop(columns= ['TypeofContact', 'Occupation', 'Gender'])"
   ]
  },
  {
   "cell_type": "code",
   "execution_count": 22,
   "id": "6db4244e-a7bf-43bc-ba0a-ce493a1700db",
   "metadata": {
    "colab": {
     "base_uri": "https://localhost:8080/"
    },
    "execution": {
     "iopub.execute_input": "2022-04-01T06:10:10.171446Z",
     "iopub.status.busy": "2022-04-01T06:10:10.171446Z",
     "iopub.status.idle": "2022-04-01T06:10:10.185466Z",
     "shell.execute_reply": "2022-04-01T06:10:10.185466Z",
     "shell.execute_reply.started": "2022-04-01T06:10:10.171446Z"
    },
    "id": "6db4244e-a7bf-43bc-ba0a-ce493a1700db",
    "outputId": "c3db38c1-9f9e-4e3f-e442-578ce4be3435"
   },
   "outputs": [
    {
     "name": "stdout",
     "output_type": "stream",
     "text": [
      "<class 'pandas.core.frame.DataFrame'>\n",
      "Int64Index: 4792 entries, 0 to 4887\n",
      "Data columns (total 25 columns):\n",
      " #   Column                         Non-Null Count  Dtype  \n",
      "---  ------                         --------------  -----  \n",
      " 0   CustomerID                     4792 non-null   int64  \n",
      " 1   ProdTaken                      4792 non-null   int64  \n",
      " 2   Age                            4792 non-null   float64\n",
      " 3   CityTier                       4792 non-null   int64  \n",
      " 4   DurationOfPitch                4792 non-null   float64\n",
      " 5   NumberOfPersonVisiting         4792 non-null   float64\n",
      " 6   NumberOfFollowups              4792 non-null   float64\n",
      " 7   ProductPitched                 4792 non-null   int64  \n",
      " 8   PreferredPropertyStar          4792 non-null   float64\n",
      " 9   MaritalStatus                  4792 non-null   int64  \n",
      " 10  NumberOfTrips                  4792 non-null   float64\n",
      " 11  Passport                       4792 non-null   int64  \n",
      " 12  PitchSatisfactionScore         4792 non-null   int64  \n",
      " 13  OwnCar                         4792 non-null   int64  \n",
      " 14  NumberOfChildrenVisiting       4792 non-null   float64\n",
      " 15  Designation                    4792 non-null   int64  \n",
      " 16  MonthlyIncome                  4792 non-null   float64\n",
      " 17  TypeofContact_Company Invited  4792 non-null   uint8  \n",
      " 18  TypeofContact_Self Enquiry     4792 non-null   uint8  \n",
      " 19  Occupation_Free Lancer         4792 non-null   uint8  \n",
      " 20  Occupation_Large Business      4792 non-null   uint8  \n",
      " 21  Occupation_Salaried            4792 non-null   uint8  \n",
      " 22  Occupation_Small Business      4792 non-null   uint8  \n",
      " 23  Gender_female                  4792 non-null   uint8  \n",
      " 24  Gender_male                    4792 non-null   uint8  \n",
      "dtypes: float64(8), int64(9), uint8(8)\n",
      "memory usage: 840.4 KB\n"
     ]
    }
   ],
   "source": [
    "# Pengecekan kolom-kolom setelah feature encoding\n",
    "df.info()"
   ]
  },
  {
   "cell_type": "code",
   "execution_count": 23,
   "id": "c748ab17-b80c-42e2-a2f8-93bb5020ff94",
   "metadata": {
    "execution": {
     "iopub.execute_input": "2022-04-01T06:10:10.189012Z",
     "iopub.status.busy": "2022-04-01T06:10:10.189012Z",
     "iopub.status.idle": "2022-04-01T06:10:10.200149Z",
     "shell.execute_reply": "2022-04-01T06:10:10.200149Z",
     "shell.execute_reply.started": "2022-04-01T06:10:10.189012Z"
    },
    "id": "c748ab17-b80c-42e2-a2f8-93bb5020ff94"
   },
   "outputs": [],
   "source": [
    "# Split Feature and Label\n",
    "X = df.drop(columns=['ProdTaken'])\n",
    "y = df['ProdTaken'] # target / label"
   ]
  },
  {
   "cell_type": "code",
   "execution_count": 24,
   "id": "fc4dcac2-d8da-434a-a4c9-996de2b247d2",
   "metadata": {
    "execution": {
     "iopub.execute_input": "2022-04-01T06:10:10.201387Z",
     "iopub.status.busy": "2022-04-01T06:10:10.201387Z",
     "iopub.status.idle": "2022-04-01T06:10:10.620997Z",
     "shell.execute_reply": "2022-04-01T06:10:10.620997Z",
     "shell.execute_reply.started": "2022-04-01T06:10:10.201387Z"
    },
    "id": "fc4dcac2-d8da-434a-a4c9-996de2b247d2"
   },
   "outputs": [],
   "source": [
    "#Splitting the data into Train and Test\n",
    "from sklearn.model_selection import train_test_split \n",
    "X_train, X_test, y_train, y_test = train_test_split(X, y, test_size = 0.3, random_state = 42)"
   ]
  },
  {
   "cell_type": "markdown",
   "id": "a02842d4-83fe-4cd2-8069-42de4bbe27f8",
   "metadata": {
    "execution": {
     "iopub.execute_input": "2022-04-01T06:09:42.687263Z",
     "iopub.status.busy": "2022-04-01T06:09:42.687263Z",
     "iopub.status.idle": "2022-04-01T06:09:42.717072Z",
     "shell.execute_reply": "2022-04-01T06:09:42.716045Z",
     "shell.execute_reply.started": "2022-04-01T06:09:42.687263Z"
    },
    "id": "1a8eee5a-a10b-420c-8115-9eb985423320"
   },
   "source": [
    "from sklearn.preprocessing import StandardScaler\n",
    "sc = StandardScaler()\n",
    "X_train = pd.DataFrame(sc.fit_transform(X_train), columns = X.columns)\n",
    "X_test = pd.DataFrame(sc.transform(X_test), columns = X.columns)"
   ]
  },
  {
   "cell_type": "code",
   "execution_count": 25,
   "id": "64ceada4-9805-453d-ad5c-5a32efe4551d",
   "metadata": {
    "colab": {
     "base_uri": "https://localhost:8080/"
    },
    "execution": {
     "iopub.execute_input": "2022-04-01T06:10:10.623248Z",
     "iopub.status.busy": "2022-04-01T06:10:10.622878Z",
     "iopub.status.idle": "2022-04-01T06:10:10.636148Z",
     "shell.execute_reply": "2022-04-01T06:10:10.636148Z",
     "shell.execute_reply.started": "2022-04-01T06:10:10.623248Z"
    },
    "id": "64ceada4-9805-453d-ad5c-5a32efe4551d",
    "outputId": "ad7f6b78-5d93-41aa-de76-0bd764e389d7"
   },
   "outputs": [
    {
     "name": "stdout",
     "output_type": "stream",
     "text": [
      "0    2707\n",
      "1     647\n",
      "Name: ProdTaken, dtype: int64\n"
     ]
    }
   ],
   "source": [
    "# melihat jumlah prodtaken di data train\n",
    "print(pd.Series(y_train).value_counts())"
   ]
  },
  {
   "cell_type": "code",
   "execution_count": 26,
   "id": "b25291bd-1fdc-474f-978f-2cbb9ae1eca9",
   "metadata": {
    "colab": {
     "base_uri": "https://localhost:8080/"
    },
    "execution": {
     "iopub.execute_input": "2022-04-01T06:10:10.638041Z",
     "iopub.status.busy": "2022-04-01T06:10:10.638041Z",
     "iopub.status.idle": "2022-04-01T06:10:10.652235Z",
     "shell.execute_reply": "2022-04-01T06:10:10.651719Z",
     "shell.execute_reply.started": "2022-04-01T06:10:10.638041Z"
    },
    "id": "b25291bd-1fdc-474f-978f-2cbb9ae1eca9",
    "outputId": "a21e5b3c-3333-422d-ced8-a79751f34639"
   },
   "outputs": [
    {
     "name": "stdout",
     "output_type": "stream",
     "text": [
      "0    1182\n",
      "1     256\n",
      "Name: ProdTaken, dtype: int64\n"
     ]
    }
   ],
   "source": [
    "# melihat jumlah prodtaken di data test\n",
    "print(pd.Series(y_test).value_counts())"
   ]
  },
  {
   "cell_type": "code",
   "execution_count": 27,
   "id": "70bd4f3c-c43f-4b5e-adfe-efe5fb38819c",
   "metadata": {
    "colab": {
     "base_uri": "https://localhost:8080/"
    },
    "execution": {
     "iopub.execute_input": "2022-04-01T06:10:10.655346Z",
     "iopub.status.busy": "2022-04-01T06:10:10.654346Z",
     "iopub.status.idle": "2022-04-01T06:10:10.978655Z",
     "shell.execute_reply": "2022-04-01T06:10:10.978155Z",
     "shell.execute_reply.started": "2022-04-01T06:10:10.655346Z"
    },
    "id": "70bd4f3c-c43f-4b5e-adfe-efe5fb38819c",
    "outputId": "f744006e-5c13-4573-db0b-167c83ee9fb5",
    "tags": []
   },
   "outputs": [
    {
     "name": "stdout",
     "output_type": "stream",
     "text": [
      "SMOTE\n",
      "0    2707\n",
      "1    2707\n",
      "Name: ProdTaken, dtype: int64\n"
     ]
    }
   ],
   "source": [
    "#handle imbalance data train\n",
    "from imblearn import under_sampling, over_sampling\n",
    "X_over_SMOTE, y_over_SMOTE = over_sampling.SMOTE(1).fit_resample(X_train, y_train)\n",
    "\n",
    "print('SMOTE')\n",
    "print(pd.Series(y_over_SMOTE).value_counts())"
   ]
  },
  {
   "cell_type": "code",
   "execution_count": 28,
   "id": "8b59da6e-de2a-4f48-995f-3c6942cbfbbc",
   "metadata": {
    "execution": {
     "iopub.execute_input": "2022-04-01T06:20:02.348463Z",
     "iopub.status.busy": "2022-04-01T06:20:02.342465Z",
     "iopub.status.idle": "2022-04-01T06:20:02.936851Z",
     "shell.execute_reply": "2022-04-01T06:20:02.935698Z",
     "shell.execute_reply.started": "2022-04-01T06:20:02.348463Z"
    },
    "tags": []
   },
   "outputs": [
    {
     "name": "stdout",
     "output_type": "stream",
     "text": [
      "<class 'pandas.core.frame.DataFrame'>\n",
      "RangeIndex: 5414 entries, 0 to 5413\n",
      "Data columns (total 24 columns):\n",
      " #   Column                         Non-Null Count  Dtype  \n",
      "---  ------                         --------------  -----  \n",
      " 0   CustomerID                     5414 non-null   int64  \n",
      " 1   Age                            5414 non-null   float64\n",
      " 2   CityTier                       5414 non-null   int64  \n",
      " 3   DurationOfPitch                5414 non-null   float64\n",
      " 4   NumberOfPersonVisiting         5414 non-null   float64\n",
      " 5   NumberOfFollowups              5414 non-null   float64\n",
      " 6   ProductPitched                 5414 non-null   int64  \n",
      " 7   PreferredPropertyStar          5414 non-null   float64\n",
      " 8   MaritalStatus                  5414 non-null   int64  \n",
      " 9   NumberOfTrips                  5414 non-null   float64\n",
      " 10  Passport                       5414 non-null   int64  \n",
      " 11  PitchSatisfactionScore         5414 non-null   int64  \n",
      " 12  OwnCar                         5414 non-null   int64  \n",
      " 13  NumberOfChildrenVisiting       5414 non-null   float64\n",
      " 14  Designation                    5414 non-null   int64  \n",
      " 15  MonthlyIncome                  5414 non-null   float64\n",
      " 16  TypeofContact_Company Invited  5414 non-null   uint8  \n",
      " 17  TypeofContact_Self Enquiry     5414 non-null   uint8  \n",
      " 18  Occupation_Free Lancer         5414 non-null   uint8  \n",
      " 19  Occupation_Large Business      5414 non-null   uint8  \n",
      " 20  Occupation_Salaried            5414 non-null   uint8  \n",
      " 21  Occupation_Small Business      5414 non-null   uint8  \n",
      " 22  Gender_female                  5414 non-null   uint8  \n",
      " 23  Gender_male                    5414 non-null   uint8  \n",
      "dtypes: float64(8), int64(8), uint8(8)\n",
      "memory usage: 719.2 KB\n"
     ]
    }
   ],
   "source": [
    "X_over_SMOTE.info()"
   ]
  },
  {
   "cell_type": "markdown",
   "id": "a33c7396-4c4c-44f8-b3c3-6081791575d4",
   "metadata": {},
   "source": [
    "# aggregat passport"
   ]
  },
  {
   "cell_type": "code",
   "execution_count": 42,
   "id": "a2d56fd1-e6a1-481a-b6c0-7d7726eef0ad",
   "metadata": {
    "execution": {
     "iopub.execute_input": "2022-04-01T06:31:27.412721Z",
     "iopub.status.busy": "2022-04-01T06:31:27.404524Z",
     "iopub.status.idle": "2022-04-01T06:31:27.885229Z",
     "shell.execute_reply": "2022-04-01T06:31:27.883760Z",
     "shell.execute_reply.started": "2022-04-01T06:31:27.412721Z"
    }
   },
   "outputs": [
    {
     "data": {
      "text/html": [
       "<div>\n",
       "<style scoped>\n",
       "    .dataframe tbody tr th:only-of-type {\n",
       "        vertical-align: middle;\n",
       "    }\n",
       "\n",
       "    .dataframe tbody tr th {\n",
       "        vertical-align: top;\n",
       "    }\n",
       "\n",
       "    .dataframe thead th {\n",
       "        text-align: right;\n",
       "    }\n",
       "</style>\n",
       "<table border=\"1\" class=\"dataframe\">\n",
       "  <thead>\n",
       "    <tr style=\"text-align: right;\">\n",
       "      <th></th>\n",
       "      <th>Passport</th>\n",
       "      <th>CustomerID</th>\n",
       "    </tr>\n",
       "  </thead>\n",
       "  <tbody>\n",
       "    <tr>\n",
       "      <th>0</th>\n",
       "      <td>0</td>\n",
       "      <td>2952</td>\n",
       "    </tr>\n",
       "    <tr>\n",
       "      <th>1</th>\n",
       "      <td>1</td>\n",
       "      <td>1427</td>\n",
       "    </tr>\n",
       "  </tbody>\n",
       "</table>\n",
       "</div>"
      ],
      "text/plain": [
       "   Passport  CustomerID\n",
       "0         0        2952\n",
       "1         1        1427"
      ]
     },
     "execution_count": 42,
     "metadata": {},
     "output_type": "execute_result"
    }
   ],
   "source": [
    "passport_agg = X_over_SMOTE.groupby(['Passport']).agg({'CustomerID' : 'nunique'})\n",
    "passport_agg = passport_agg.reset_index()\n",
    "passport_agg"
   ]
  },
  {
   "cell_type": "code",
   "execution_count": 44,
   "id": "5f3576c8-da41-4572-87b3-f17ddb132ce9",
   "metadata": {
    "execution": {
     "iopub.execute_input": "2022-04-01T06:31:45.843349Z",
     "iopub.status.busy": "2022-04-01T06:31:45.843349Z",
     "iopub.status.idle": "2022-04-01T06:31:46.090345Z",
     "shell.execute_reply": "2022-04-01T06:31:46.090345Z",
     "shell.execute_reply.started": "2022-04-01T06:31:45.843349Z"
    },
    "tags": []
   },
   "outputs": [
    {
     "data": {
      "image/png": "[encoded data removed]",
      "text/plain": [
       "<Figure size 576x360 with 1 Axes>"
      ]
     },
     "metadata": {
      "needs_background": "light"
     },
     "output_type": "display_data"
    },
    {
     "data": {
      "text/plain": [
       "''"
      ]
     },
     "execution_count": 44,
     "metadata": {},
     "output_type": "execute_result"
    }
   ],
   "source": [
    "plt.figure(figsize=(8,5))\n",
    "ax = plt.bar(x='Passport', height='CustomerID', data=passport_agg, color=['lightsalmon', 'steelblue'])\n",
    "plt.title('Jumlah Pelanggan berdasarkan Kepemilikan Passport\\npada Data Training', loc='center', pad=10, fontsize=20)\n",
    "plt.xlabel('Kepemilikan Passport', fontsize = 15)\n",
    "plt.ylabel('Jumlah Pelanggan', fontsize = 15)\n",
    "plt.xticks((0, 1), ('Tidak memiliki', 'Memiliki'))\n",
    "for index,data in enumerate(passport_agg['CustomerID']):\n",
    "    plt.text(x=index , y =data+1 , s=f\"{data}\" , fontdict=dict(fontsize=20), ha='center')\n",
    "plt.ylim([0, 3300])\n",
    "plt.tight_layout()\n",
    "plt.savefig('passport_agg.png', dpi=200)\n",
    "plt.show()\n",
    ";"
   ]
  },
  {
   "cell_type": "markdown",
   "id": "8ad1ad07-44e9-4003-83b3-bf3dab2188f3",
   "metadata": {},
   "source": [
    "# aggregat ProductPitched"
   ]
  },
  {
   "cell_type": "code",
   "execution_count": 124,
   "id": "12cf011c-1277-4f1c-9b56-95d4c1f4f0aa",
   "metadata": {
    "execution": {
     "iopub.execute_input": "2022-04-01T07:52:05.097606Z",
     "iopub.status.busy": "2022-04-01T07:52:05.096554Z",
     "iopub.status.idle": "2022-04-01T07:52:05.234702Z",
     "shell.execute_reply": "2022-04-01T07:52:05.234113Z",
     "shell.execute_reply.started": "2022-04-01T07:52:05.097606Z"
    },
    "tags": []
   },
   "outputs": [
    {
     "data": {
      "text/html": [
       "<div>\n",
       "<style scoped>\n",
       "    .dataframe tbody tr th:only-of-type {\n",
       "        vertical-align: middle;\n",
       "    }\n",
       "\n",
       "    .dataframe tbody tr th {\n",
       "        vertical-align: top;\n",
       "    }\n",
       "\n",
       "    .dataframe thead th {\n",
       "        text-align: right;\n",
       "    }\n",
       "</style>\n",
       "<table border=\"1\" class=\"dataframe\">\n",
       "  <thead>\n",
       "    <tr style=\"text-align: right;\">\n",
       "      <th></th>\n",
       "      <th>ProductPitched</th>\n",
       "      <th>total_user</th>\n",
       "    </tr>\n",
       "  </thead>\n",
       "  <tbody>\n",
       "    <tr>\n",
       "      <th>0</th>\n",
       "      <td>0</td>\n",
       "      <td>1971</td>\n",
       "    </tr>\n",
       "    <tr>\n",
       "      <th>2</th>\n",
       "      <td>2</td>\n",
       "      <td>1408</td>\n",
       "    </tr>\n",
       "    <tr>\n",
       "      <th>1</th>\n",
       "      <td>1</td>\n",
       "      <td>880</td>\n",
       "    </tr>\n",
       "    <tr>\n",
       "      <th>3</th>\n",
       "      <td>3</td>\n",
       "      <td>283</td>\n",
       "    </tr>\n",
       "    <tr>\n",
       "      <th>4</th>\n",
       "      <td>4</td>\n",
       "      <td>177</td>\n",
       "    </tr>\n",
       "  </tbody>\n",
       "</table>\n",
       "</div>"
      ],
      "text/plain": [
       "  ProductPitched  total_user\n",
       "0              0        1971\n",
       "2              2        1408\n",
       "1              1         880\n",
       "3              3         283\n",
       "4              4         177"
      ]
     },
     "execution_count": 124,
     "metadata": {},
     "output_type": "execute_result"
    }
   ],
   "source": [
    "X_over_SMOTE['ProductPitched'] = X_over_SMOTE['ProductPitched'].astype(str)\n",
    "viz4 = X_over_SMOTE.groupby(['ProductPitched'])['CustomerID'].nunique().reset_index().sort_values(by='CustomerID', ascending=False)\n",
    "viz4.columns = ['ProductPitched', 'total_user']\n",
    "viz4"
   ]
  },
  {
   "cell_type": "code",
   "execution_count": 125,
   "id": "c761c2ff-7cd0-4786-b8c5-bcd51b012f8e",
   "metadata": {
    "execution": {
     "iopub.execute_input": "2022-04-01T07:52:07.596340Z",
     "iopub.status.busy": "2022-04-01T07:52:07.596340Z",
     "iopub.status.idle": "2022-04-01T07:52:07.617016Z",
     "shell.execute_reply": "2022-04-01T07:52:07.616960Z",
     "shell.execute_reply.started": "2022-04-01T07:52:07.596340Z"
    },
    "tags": []
   },
   "outputs": [
    {
     "data": {
      "text/html": [
       "<div>\n",
       "<style scoped>\n",
       "    .dataframe tbody tr th:only-of-type {\n",
       "        vertical-align: middle;\n",
       "    }\n",
       "\n",
       "    .dataframe tbody tr th {\n",
       "        vertical-align: top;\n",
       "    }\n",
       "\n",
       "    .dataframe thead th {\n",
       "        text-align: right;\n",
       "    }\n",
       "</style>\n",
       "<table border=\"1\" class=\"dataframe\">\n",
       "  <thead>\n",
       "    <tr style=\"text-align: right;\">\n",
       "      <th></th>\n",
       "      <th>index</th>\n",
       "      <th>ProductPitched</th>\n",
       "      <th>total_user</th>\n",
       "    </tr>\n",
       "  </thead>\n",
       "  <tbody>\n",
       "    <tr>\n",
       "      <th>0</th>\n",
       "      <td>0</td>\n",
       "      <td>0</td>\n",
       "      <td>1971</td>\n",
       "    </tr>\n",
       "    <tr>\n",
       "      <th>1</th>\n",
       "      <td>2</td>\n",
       "      <td>2</td>\n",
       "      <td>1408</td>\n",
       "    </tr>\n",
       "    <tr>\n",
       "      <th>2</th>\n",
       "      <td>1</td>\n",
       "      <td>1</td>\n",
       "      <td>880</td>\n",
       "    </tr>\n",
       "    <tr>\n",
       "      <th>3</th>\n",
       "      <td>3</td>\n",
       "      <td>3</td>\n",
       "      <td>283</td>\n",
       "    </tr>\n",
       "    <tr>\n",
       "      <th>4</th>\n",
       "      <td>4</td>\n",
       "      <td>4</td>\n",
       "      <td>177</td>\n",
       "    </tr>\n",
       "  </tbody>\n",
       "</table>\n",
       "</div>"
      ],
      "text/plain": [
       "   index ProductPitched  total_user\n",
       "0      0              0        1971\n",
       "1      2              2        1408\n",
       "2      1              1         880\n",
       "3      3              3         283\n",
       "4      4              4         177"
      ]
     },
     "execution_count": 125,
     "metadata": {},
     "output_type": "execute_result"
    }
   ],
   "source": [
    "new_index =[0,1,2,3,4]\n",
    "viz4 = viz4.sort_values(by='total_user', ascending=False).reset_index()\n",
    "viz4"
   ]
  },
  {
   "cell_type": "code",
   "execution_count": 98,
   "id": "3219179f-46de-43f0-bb4d-c016e98f26f8",
   "metadata": {
    "collapsed": true,
    "execution": {
     "iopub.execute_input": "2022-04-01T07:27:41.743383Z",
     "iopub.status.busy": "2022-04-01T07:27:41.743383Z",
     "iopub.status.idle": "2022-04-01T07:27:45.221239Z",
     "shell.execute_reply": "2022-04-01T07:27:45.221239Z",
     "shell.execute_reply.started": "2022-04-01T07:27:41.743383Z"
    },
    "jupyter": {
     "outputs_hidden": true,
     "source_hidden": true
    },
    "tags": []
   },
   "outputs": [
    {
     "data": {
      "image/png": "[encoded data removed]",
      "text/plain": [
       "<Figure size 576x360 with 1 Axes>"
      ]
     },
     "metadata": {
      "needs_background": "light"
     },
     "output_type": "display_data"
    }
   ],
   "source": [
    "plt.figure(figsize=(8,5))\n",
    "splot = sns.barplot(data=viz4, x='ProductPitched', y='total_user') \n",
    "for p in splot.patches:\n",
    "    splot.annotate(format(p.get_height(), '.1f'), \n",
    "                   (p.get_x() + p.get_width() / 2., p.get_height()), \n",
    "                   ha = 'center', va = 'center', \n",
    "                   xytext = (0, 9),\n",
    "                   textcoords = 'offset points')\n",
    "    \n",
    "plt.xlabel('Jenis produk', fontsize=12) \n",
    "plt.ylabel('Jumlah pelanggan', fontsize = 12)\n",
    "plt.tight_layout()\n",
    "plt.savefig('insight 1.jpg', dpi=150)"
   ]
  },
  {
   "cell_type": "code",
   "execution_count": 127,
   "id": "efa56adf-c9fe-4cdb-9e6e-afef4a4204f0",
   "metadata": {
    "execution": {
     "iopub.execute_input": "2022-04-01T07:54:04.417132Z",
     "iopub.status.busy": "2022-04-01T07:54:04.402983Z",
     "iopub.status.idle": "2022-04-01T07:54:05.311873Z",
     "shell.execute_reply": "2022-04-01T07:54:05.307019Z",
     "shell.execute_reply.started": "2022-04-01T07:54:04.417132Z"
    },
    "tags": []
   },
   "outputs": [
    {
     "data": {
      "image/png": "[encoded data removed]",
      "text/plain": [
       "<Figure size 576x360 with 1 Axes>"
      ]
     },
     "metadata": {
      "needs_background": "light"
     },
     "output_type": "display_data"
    },
    {
     "data": {
      "text/plain": [
       "''"
      ]
     },
     "execution_count": 127,
     "metadata": {},
     "output_type": "execute_result"
    }
   ],
   "source": [
    "plt.clf\n",
    "plt.figure(figsize=(8,5))\n",
    "ax = plt.bar(x='ProductPitched', height='total_user', data=viz4, color=['lightsalmon', 'steelblue'])\n",
    "plt.title('Jumlah Pelanggan berdasarkan Jenis Produk yang\\ndipilih pada Data Training', loc='center', pad=10, fontsize=20)\n",
    "plt.xlabel('Jenis Produk', fontsize = 15)\n",
    "plt.ylabel('Jumlah Pelanggan', fontsize = 15)\n",
    "\n",
    "for index,data in enumerate(viz4['total_user']):\n",
    "    plt.text(x=index , y =data+1 , s=f\"{data}\" , fontdict=dict(fontsize=15), ha='center')\n",
    "plt.xticks((0,1,2,3,4) , ( 'Basic','Deluxe','Standart', 'Super Deluxe', 'King'))\n",
    "plt.ylim([0, 2300])\n",
    "plt.tight_layout()\n",
    "plt.savefig('ProductPitched_agg.png', dpi=200)\n",
    "plt.show()\n",
    ";"
   ]
  },
  {
   "cell_type": "markdown",
   "id": "df499312-59fc-4154-8dea-baf4849465d3",
   "metadata": {},
   "source": [
    "# aggregat CityTier"
   ]
  },
  {
   "cell_type": "code",
   "execution_count": 120,
   "id": "c7f05749-151e-4e03-9fd1-82a82ba87512",
   "metadata": {
    "execution": {
     "iopub.execute_input": "2022-04-01T07:49:39.634392Z",
     "iopub.status.busy": "2022-04-01T07:49:39.633390Z",
     "iopub.status.idle": "2022-04-01T07:49:39.658243Z",
     "shell.execute_reply": "2022-04-01T07:49:39.658243Z",
     "shell.execute_reply.started": "2022-04-01T07:49:39.634392Z"
    },
    "tags": []
   },
   "outputs": [
    {
     "data": {
      "text/html": [
       "<div>\n",
       "<style scoped>\n",
       "    .dataframe tbody tr th:only-of-type {\n",
       "        vertical-align: middle;\n",
       "    }\n",
       "\n",
       "    .dataframe tbody tr th {\n",
       "        vertical-align: top;\n",
       "    }\n",
       "\n",
       "    .dataframe thead th {\n",
       "        text-align: right;\n",
       "    }\n",
       "</style>\n",
       "<table border=\"1\" class=\"dataframe\">\n",
       "  <thead>\n",
       "    <tr style=\"text-align: right;\">\n",
       "      <th></th>\n",
       "      <th>CityTier</th>\n",
       "      <th>total_user</th>\n",
       "    </tr>\n",
       "  </thead>\n",
       "  <tbody>\n",
       "    <tr>\n",
       "      <th>0</th>\n",
       "      <td>1</td>\n",
       "      <td>2729</td>\n",
       "    </tr>\n",
       "    <tr>\n",
       "      <th>2</th>\n",
       "      <td>3</td>\n",
       "      <td>1314</td>\n",
       "    </tr>\n",
       "    <tr>\n",
       "      <th>1</th>\n",
       "      <td>2</td>\n",
       "      <td>589</td>\n",
       "    </tr>\n",
       "  </tbody>\n",
       "</table>\n",
       "</div>"
      ],
      "text/plain": [
       "  CityTier  total_user\n",
       "0        1        2729\n",
       "2        3        1314\n",
       "1        2         589"
      ]
     },
     "execution_count": 120,
     "metadata": {},
     "output_type": "execute_result"
    }
   ],
   "source": [
    "X_over_SMOTE['CityTier'] = X_over_SMOTE['CityTier'].astype(str)\n",
    "CityTier_agg = X_over_SMOTE.groupby(['CityTier'])['CustomerID'].nunique().reset_index().sort_values(by='CustomerID', ascending=False)\n",
    "CityTier_agg.columns = ['CityTier', 'total_user']\n",
    "CityTier_agg"
   ]
  },
  {
   "cell_type": "code",
   "execution_count": 122,
   "id": "ea0b692c-5afa-49df-948a-504f3b49cb48",
   "metadata": {
    "execution": {
     "iopub.execute_input": "2022-04-01T07:50:22.390974Z",
     "iopub.status.busy": "2022-04-01T07:50:22.390974Z",
     "iopub.status.idle": "2022-04-01T07:50:22.410441Z",
     "shell.execute_reply": "2022-04-01T07:50:22.410441Z",
     "shell.execute_reply.started": "2022-04-01T07:50:22.390974Z"
    },
    "tags": []
   },
   "outputs": [
    {
     "data": {
      "text/html": [
       "<div>\n",
       "<style scoped>\n",
       "    .dataframe tbody tr th:only-of-type {\n",
       "        vertical-align: middle;\n",
       "    }\n",
       "\n",
       "    .dataframe tbody tr th {\n",
       "        vertical-align: top;\n",
       "    }\n",
       "\n",
       "    .dataframe thead th {\n",
       "        text-align: right;\n",
       "    }\n",
       "</style>\n",
       "<table border=\"1\" class=\"dataframe\">\n",
       "  <thead>\n",
       "    <tr style=\"text-align: right;\">\n",
       "      <th></th>\n",
       "      <th>index</th>\n",
       "      <th>CityTier</th>\n",
       "      <th>total_user</th>\n",
       "    </tr>\n",
       "  </thead>\n",
       "  <tbody>\n",
       "    <tr>\n",
       "      <th>0</th>\n",
       "      <td>0</td>\n",
       "      <td>1</td>\n",
       "      <td>2729</td>\n",
       "    </tr>\n",
       "    <tr>\n",
       "      <th>1</th>\n",
       "      <td>2</td>\n",
       "      <td>3</td>\n",
       "      <td>1314</td>\n",
       "    </tr>\n",
       "    <tr>\n",
       "      <th>2</th>\n",
       "      <td>1</td>\n",
       "      <td>2</td>\n",
       "      <td>589</td>\n",
       "    </tr>\n",
       "  </tbody>\n",
       "</table>\n",
       "</div>"
      ],
      "text/plain": [
       "   index CityTier  total_user\n",
       "0      0        1        2729\n",
       "1      2        3        1314\n",
       "2      1        2         589"
      ]
     },
     "execution_count": 122,
     "metadata": {},
     "output_type": "execute_result"
    }
   ],
   "source": [
    "new_index =[0,1,2]\n",
    "Cityviz = CityTier_agg.sort_values(by='total_user', ascending=False).reset_index()\n",
    "Cityviz"
   ]
  },
  {
   "cell_type": "code",
   "execution_count": 131,
   "id": "90294b51-b46f-41ef-bc94-182eae57c6b5",
   "metadata": {
    "execution": {
     "iopub.execute_input": "2022-04-01T07:57:46.165251Z",
     "iopub.status.busy": "2022-04-01T07:57:46.165251Z",
     "iopub.status.idle": "2022-04-01T07:57:46.387649Z",
     "shell.execute_reply": "2022-04-01T07:57:46.387288Z",
     "shell.execute_reply.started": "2022-04-01T07:57:46.165251Z"
    },
    "tags": []
   },
   "outputs": [
    {
     "data": {
      "image/png": "[encoded data removed]",
      "text/plain": [
       "<Figure size 576x360 with 1 Axes>"
      ]
     },
     "metadata": {
      "needs_background": "light"
     },
     "output_type": "display_data"
    },
    {
     "data": {
      "text/plain": [
       "''"
      ]
     },
     "execution_count": 131,
     "metadata": {},
     "output_type": "execute_result"
    }
   ],
   "source": [
    "plt.clf\n",
    "plt.figure(figsize=(8,5))\n",
    "ax = plt.bar(x='CityTier', height='total_user', data=Cityviz, color=['lightsalmon', 'steelblue'])\n",
    "plt.title('Jumlah Pelanggan berdasarkan Tingkat Kota\\npada Data Training', loc='center', pad=10, fontsize=20)\n",
    "plt.xlabel('Jenis Produk', fontsize = 15)\n",
    "plt.ylabel('Jumlah Pelanggan', fontsize = 15)\n",
    "\n",
    "for index,data in enumerate(Cityviz['total_user']):\n",
    "    plt.text(x=index , y =data+1 , s=f\"{data}\" , fontdict=dict(fontsize=15), ha='center')\n",
    "plt.xticks((0,1,2) , ( 'Kota Besar','Kota Kecil','Kota Sedang'))\n",
    "plt.ylim([0, 3000])\n",
    "plt.tight_layout()\n",
    "plt.savefig('CityTier_agg.png', dpi=200)\n",
    "plt.show()\n",
    ";"
   ]
  },
  {
   "cell_type": "markdown",
   "id": "b4b2bc24-421c-4ebb-b5d4-1d1c0c746bb2",
   "metadata": {},
   "source": [
    "# aggregat MaritalStatus"
   ]
  },
  {
   "cell_type": "code",
   "execution_count": null,
   "id": "e6bbd693-d8d8-4736-9c07-55cc537340bd",
   "metadata": {},
   "outputs": [],
   "source": [
    "  'Married' : 0,\n",
    "    'Single' : 1,\n",
    "    'Divorced' : 2,"
   ]
  },
  {
   "cell_type": "code",
   "execution_count": 30,
   "id": "1a3d5b39-aed0-4c1b-bcef-5d15897ec16f",
   "metadata": {
    "execution": {
     "iopub.execute_input": "2022-04-01T06:23:27.581919Z",
     "iopub.status.busy": "2022-04-01T06:23:27.580919Z",
     "iopub.status.idle": "2022-04-01T06:23:27.627745Z",
     "shell.execute_reply": "2022-04-01T06:23:27.626574Z",
     "shell.execute_reply.started": "2022-04-01T06:23:27.581919Z"
    },
    "tags": []
   },
   "outputs": [
    {
     "data": {
      "text/html": [
       "<div>\n",
       "<style scoped>\n",
       "    .dataframe tbody tr th:only-of-type {\n",
       "        vertical-align: middle;\n",
       "    }\n",
       "\n",
       "    .dataframe tbody tr th {\n",
       "        vertical-align: top;\n",
       "    }\n",
       "\n",
       "    .dataframe thead th {\n",
       "        text-align: right;\n",
       "    }\n",
       "</style>\n",
       "<table border=\"1\" class=\"dataframe\">\n",
       "  <thead>\n",
       "    <tr style=\"text-align: right;\">\n",
       "      <th></th>\n",
       "      <th>MaritalStatus</th>\n",
       "      <th>CustomerID</th>\n",
       "    </tr>\n",
       "  </thead>\n",
       "  <tbody>\n",
       "    <tr>\n",
       "      <th>0</th>\n",
       "      <td>0</td>\n",
       "      <td>2168</td>\n",
       "    </tr>\n",
       "    <tr>\n",
       "      <th>1</th>\n",
       "      <td>1</td>\n",
       "      <td>1650</td>\n",
       "    </tr>\n",
       "    <tr>\n",
       "      <th>2</th>\n",
       "      <td>2</td>\n",
       "      <td>702</td>\n",
       "    </tr>\n",
       "  </tbody>\n",
       "</table>\n",
       "</div>"
      ],
      "text/plain": [
       "   MaritalStatus  CustomerID\n",
       "0              0        2168\n",
       "1              1        1650\n",
       "2              2         702"
      ]
     },
     "execution_count": 30,
     "metadata": {},
     "output_type": "execute_result"
    }
   ],
   "source": [
    "MaritalStatus_agg = X_over_SMOTE.groupby(['MaritalStatus']).agg({'CustomerID' : 'nunique'})\n",
    "MaritalStatus_agg = MaritalStatus_agg.reset_index()\n",
    "MaritalStatus_agg"
   ]
  },
  {
   "cell_type": "code",
   "execution_count": 39,
   "id": "e5f21735-ac7c-48df-ba10-a17345b35270",
   "metadata": {
    "execution": {
     "iopub.execute_input": "2022-04-01T06:28:47.045840Z",
     "iopub.status.busy": "2022-04-01T06:28:47.045840Z",
     "iopub.status.idle": "2022-04-01T06:28:47.281846Z",
     "shell.execute_reply": "2022-04-01T06:28:47.280608Z",
     "shell.execute_reply.started": "2022-04-01T06:28:47.045840Z"
    },
    "tags": []
   },
   "outputs": [
    {
     "data": {
      "image/png": "[encoded data removed]",
      "text/plain": [
       "<Figure size 576x360 with 1 Axes>"
      ]
     },
     "metadata": {
      "needs_background": "light"
     },
     "output_type": "display_data"
    },
    {
     "data": {
      "text/plain": [
       "''"
      ]
     },
     "execution_count": 39,
     "metadata": {},
     "output_type": "execute_result"
    }
   ],
   "source": [
    "plt.figure(figsize=(8,5))\n",
    "ax = plt.bar(x='MaritalStatus', height='CustomerID', data=MaritalStatus_agg, color=['lightsalmon', 'steelblue', 'lightsalmon'])\n",
    "plt.title('Jumlah Pelanggan berdasarkan Status Pernikahan\\npada Data Training', loc='center', pad=10, fontsize=20)\n",
    "plt.xlabel('Status Pernikahan', fontsize = 15)\n",
    "plt.ylabel('Jumlah Pelanggan', fontsize = 15)\n",
    "plt.xticks((0,1,2), ('Menikah', 'Lajang', 'Cerai'))\n",
    "for index,data in enumerate(MaritalStatus_agg['CustomerID']):\n",
    "    plt.text(x=index , y =data+1 , s=f\"{data}\" , fontdict=dict(fontsize=15), ha='center')\n",
    "plt.ylim([0, 2400])\n",
    "plt.tight_layout()\n",
    "plt.savefig('MaritalStatus_agg.png', dpi=200)\n",
    "plt.show()\n",
    ";"
   ]
  },
  {
   "cell_type": "markdown",
   "id": "70327f4c-172d-410a-b37f-cf02cb3e4ff6",
   "metadata": {},
   "source": [
    "# aggregation Designation"
   ]
  },
  {
   "cell_type": "code",
   "execution_count": 31,
   "id": "b17d5a1d-b60d-47fe-b74e-07f53880c234",
   "metadata": {
    "execution": {
     "iopub.execute_input": "2022-04-01T06:23:54.821424Z",
     "iopub.status.busy": "2022-04-01T06:23:54.820425Z",
     "iopub.status.idle": "2022-04-01T06:23:54.866105Z",
     "shell.execute_reply": "2022-04-01T06:23:54.866105Z",
     "shell.execute_reply.started": "2022-04-01T06:23:54.821424Z"
    }
   },
   "outputs": [
    {
     "data": {
      "text/html": [
       "<div>\n",
       "<style scoped>\n",
       "    .dataframe tbody tr th:only-of-type {\n",
       "        vertical-align: middle;\n",
       "    }\n",
       "\n",
       "    .dataframe tbody tr th {\n",
       "        vertical-align: top;\n",
       "    }\n",
       "\n",
       "    .dataframe thead th {\n",
       "        text-align: right;\n",
       "    }\n",
       "</style>\n",
       "<table border=\"1\" class=\"dataframe\">\n",
       "  <thead>\n",
       "    <tr style=\"text-align: right;\">\n",
       "      <th></th>\n",
       "      <th>Designation</th>\n",
       "      <th>CustomerID</th>\n",
       "    </tr>\n",
       "  </thead>\n",
       "  <tbody>\n",
       "    <tr>\n",
       "      <th>0</th>\n",
       "      <td>0</td>\n",
       "      <td>1991</td>\n",
       "    </tr>\n",
       "    <tr>\n",
       "      <th>1</th>\n",
       "      <td>1</td>\n",
       "      <td>1536</td>\n",
       "    </tr>\n",
       "    <tr>\n",
       "      <th>2</th>\n",
       "      <td>2</td>\n",
       "      <td>706</td>\n",
       "    </tr>\n",
       "    <tr>\n",
       "      <th>3</th>\n",
       "      <td>3</td>\n",
       "      <td>282</td>\n",
       "    </tr>\n",
       "    <tr>\n",
       "      <th>4</th>\n",
       "      <td>4</td>\n",
       "      <td>177</td>\n",
       "    </tr>\n",
       "  </tbody>\n",
       "</table>\n",
       "</div>"
      ],
      "text/plain": [
       "   Designation  CustomerID\n",
       "0            0        1991\n",
       "1            1        1536\n",
       "2            2         706\n",
       "3            3         282\n",
       "4            4         177"
      ]
     },
     "execution_count": 31,
     "metadata": {},
     "output_type": "execute_result"
    }
   ],
   "source": [
    "Designation_agg = X_over_SMOTE.groupby(['Designation']).agg({'CustomerID' : 'nunique'})\n",
    "Designation_agg = Designation_agg.reset_index()\n",
    "Designation_agg"
   ]
  },
  {
   "cell_type": "code",
   "execution_count": 41,
   "id": "5e0d7d2f-72bb-40ec-910a-4ba593e63efb",
   "metadata": {
    "execution": {
     "iopub.execute_input": "2022-04-01T06:30:28.069673Z",
     "iopub.status.busy": "2022-04-01T06:30:28.068293Z",
     "iopub.status.idle": "2022-04-01T06:30:28.380483Z",
     "shell.execute_reply": "2022-04-01T06:30:28.380085Z",
     "shell.execute_reply.started": "2022-04-01T06:30:28.069673Z"
    },
    "tags": []
   },
   "outputs": [
    {
     "data": {
      "image/png": "[encoded data removed]",
      "text/plain": [
       "<Figure size 576x360 with 1 Axes>"
      ]
     },
     "metadata": {
      "needs_background": "light"
     },
     "output_type": "display_data"
    },
    {
     "data": {
      "text/plain": [
       "''"
      ]
     },
     "execution_count": 41,
     "metadata": {},
     "output_type": "execute_result"
    }
   ],
   "source": [
    "plt.figure(figsize=(8,5))\n",
    "ax = plt.bar(x='Designation', height='CustomerID', data=Designation_agg, color=['lightsalmon', 'steelblue'])\n",
    "plt.title('Jumlah Pelanggan berdasarkan Status Jabatan\\npada Data Training', loc='center', pad=10, fontsize=20)\n",
    "plt.xlabel('Status Jabatan', fontsize = 15)\n",
    "plt.ylabel('Jumlah Pelanggan', fontsize = 15)\n",
    "plt.xticks((0,1,2,3,4), ('Executive', 'Manager', 'Senior Manager', 'AVP', 'VP'))\n",
    "for index,data in enumerate(Designation_agg['CustomerID']):\n",
    "    plt.text(x=index , y =data+1 , s=f\"{data}\" , fontdict=dict(fontsize=15), ha='center')\n",
    "plt.ylim([0, 2300])\n",
    "plt.tight_layout()\n",
    "plt.savefig('Designation_agg.png', dpi=200)\n",
    "plt.show()\n",
    ";"
   ]
  },
  {
   "cell_type": "code",
   "execution_count": null,
   "id": "10a8ae48-2d56-4190-af82-021b84107f84",
   "metadata": {},
   "outputs": [],
   "source": []
  }
 ],
 "metadata": {
  "colab": {
   "collapsed_sections": [],
   "name": "Modelling_test.ipynb",
   "provenance": []
  },
  "kernelspec": {
   "display_name": "Python 3 (ipykernel)",
   "language": "python",
   "name": "python3"
  },
  "language_info": {
   "codemirror_mode": {
    "name": "ipython",
    "version": 3
   },
   "file_extension": ".py",
   "mimetype": "text/x-python",
   "name": "python",
   "nbconvert_exporter": "python",
   "pygments_lexer": "ipython3",
   "version": "3.9.7"
  }
 },
 "nbformat": 4,
 "nbformat_minor": 5
}
